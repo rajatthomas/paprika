{
 "cells": [
  {
   "cell_type": "code",
   "execution_count": 7,
   "metadata": {},
   "outputs": [],
   "source": [
    "import torch\n",
    "import matplotlib.pyplot as plt\n",
    "from torch.utils.data import Dataset, DataLoader\n",
    "from torchvision import transforms, utils\n",
    "import torchvision\n",
    "\n",
    "import matplotlib.pyplot as plt\n",
    "import pandas as pd\n",
    "import cv2\n",
    "\n",
    "import numpy as np\n",
    "import os.path as osp\n",
    "\n",
    "import torch.nn as nn\n",
    "import torch.nn.functional as F\n",
    "import torch.optim as optim\n",
    "\n",
    "from torch.utils.tensorboard import SummaryWriter"
   ]
  },
  {
   "cell_type": "code",
   "execution_count": 2,
   "metadata": {},
   "outputs": [],
   "source": [
    "device = torch.device(\"cuda:2\" if torch.cuda.is_available() else \"cpu\")"
   ]
  },
  {
   "cell_type": "code",
   "execution_count": 3,
   "metadata": {},
   "outputs": [],
   "source": [
    "# default `log_dir` is \"runs\" - \n",
    "writer = SummaryWriter('runs/paprika_experiment_1')"
   ]
  },
  {
   "cell_type": "code",
   "execution_count": 8,
   "metadata": {},
   "outputs": [],
   "source": [
    "labels_file = 'data_new/labels.csv'\n",
    "root_dir = 'data_new/'"
   ]
  },
  {
   "cell_type": "code",
   "execution_count": 9,
   "metadata": {},
   "outputs": [],
   "source": [
    "df = pd.read_csv(labels_file)"
   ]
  },
  {
   "cell_type": "code",
   "execution_count": 6,
   "metadata": {},
   "outputs": [
    {
     "data": {
      "text/html": [
       "<div>\n",
       "<style scoped>\n",
       "    .dataframe tbody tr th:only-of-type {\n",
       "        vertical-align: middle;\n",
       "    }\n",
       "\n",
       "    .dataframe tbody tr th {\n",
       "        vertical-align: top;\n",
       "    }\n",
       "\n",
       "    .dataframe thead th {\n",
       "        text-align: right;\n",
       "    }\n",
       "</style>\n",
       "<table border=\"1\" class=\"dataframe\">\n",
       "  <thead>\n",
       "    <tr style=\"text-align: right;\">\n",
       "      <th></th>\n",
       "      <th>Id</th>\n",
       "      <th>Directory</th>\n",
       "      <th>File</th>\n",
       "      <th>Complete</th>\n",
       "      <th>Wrinkeled</th>\n",
       "      <th>Cut</th>\n",
       "      <th>Bounce</th>\n",
       "      <th>Hole</th>\n",
       "      <th>Internal Rotting</th>\n",
       "      <th>Sun burn</th>\n",
       "      <th>Broken stamp</th>\n",
       "      <th>Ears</th>\n",
       "      <th>Aphids</th>\n",
       "      <th>Trip</th>\n",
       "    </tr>\n",
       "  </thead>\n",
       "  <tbody>\n",
       "    <tr>\n",
       "      <th>0</th>\n",
       "      <td>4</td>\n",
       "      <td>TripA01</td>\n",
       "      <td>20201019-173127.303.tiff</td>\n",
       "      <td>True</td>\n",
       "      <td>False</td>\n",
       "      <td>False</td>\n",
       "      <td>False</td>\n",
       "      <td>False</td>\n",
       "      <td>False</td>\n",
       "      <td>False</td>\n",
       "      <td>False</td>\n",
       "      <td>False</td>\n",
       "      <td>False</td>\n",
       "      <td>True</td>\n",
       "    </tr>\n",
       "    <tr>\n",
       "      <th>1</th>\n",
       "      <td>5</td>\n",
       "      <td>TripA01</td>\n",
       "      <td>20201019-173127.361.tiff</td>\n",
       "      <td>True</td>\n",
       "      <td>False</td>\n",
       "      <td>False</td>\n",
       "      <td>False</td>\n",
       "      <td>False</td>\n",
       "      <td>False</td>\n",
       "      <td>False</td>\n",
       "      <td>False</td>\n",
       "      <td>False</td>\n",
       "      <td>False</td>\n",
       "      <td>True</td>\n",
       "    </tr>\n",
       "    <tr>\n",
       "      <th>2</th>\n",
       "      <td>6</td>\n",
       "      <td>TripA01</td>\n",
       "      <td>20201019-173127.419.tiff</td>\n",
       "      <td>True</td>\n",
       "      <td>False</td>\n",
       "      <td>False</td>\n",
       "      <td>False</td>\n",
       "      <td>False</td>\n",
       "      <td>False</td>\n",
       "      <td>False</td>\n",
       "      <td>False</td>\n",
       "      <td>False</td>\n",
       "      <td>False</td>\n",
       "      <td>True</td>\n",
       "    </tr>\n",
       "    <tr>\n",
       "      <th>3</th>\n",
       "      <td>7</td>\n",
       "      <td>TripA01</td>\n",
       "      <td>20201019-173127.472.tiff</td>\n",
       "      <td>True</td>\n",
       "      <td>False</td>\n",
       "      <td>False</td>\n",
       "      <td>False</td>\n",
       "      <td>False</td>\n",
       "      <td>False</td>\n",
       "      <td>False</td>\n",
       "      <td>False</td>\n",
       "      <td>False</td>\n",
       "      <td>False</td>\n",
       "      <td>True</td>\n",
       "    </tr>\n",
       "    <tr>\n",
       "      <th>4</th>\n",
       "      <td>9</td>\n",
       "      <td>TripA01</td>\n",
       "      <td>20201019-173130.047.tiff</td>\n",
       "      <td>True</td>\n",
       "      <td>False</td>\n",
       "      <td>False</td>\n",
       "      <td>False</td>\n",
       "      <td>False</td>\n",
       "      <td>False</td>\n",
       "      <td>False</td>\n",
       "      <td>False</td>\n",
       "      <td>False</td>\n",
       "      <td>False</td>\n",
       "      <td>True</td>\n",
       "    </tr>\n",
       "  </tbody>\n",
       "</table>\n",
       "</div>"
      ],
      "text/plain": [
       "   Id Directory                      File  Complete  Wrinkeled    Cut  Bounce  \\\n",
       "0   4   TripA01  20201019-173127.303.tiff      True      False  False   False   \n",
       "1   5   TripA01  20201019-173127.361.tiff      True      False  False   False   \n",
       "2   6   TripA01  20201019-173127.419.tiff      True      False  False   False   \n",
       "3   7   TripA01  20201019-173127.472.tiff      True      False  False   False   \n",
       "4   9   TripA01  20201019-173130.047.tiff      True      False  False   False   \n",
       "\n",
       "    Hole  Internal Rotting  Sun burn  Broken stamp   Ears  Aphids  Trip  \n",
       "0  False             False     False         False  False   False  True  \n",
       "1  False             False     False         False  False   False  True  \n",
       "2  False             False     False         False  False   False  True  \n",
       "3  False             False     False         False  False   False  True  \n",
       "4  False             False     False         False  False   False  True  "
      ]
     },
     "execution_count": 6,
     "metadata": {},
     "output_type": "execute_result"
    }
   ],
   "source": [
    "df.head()"
   ]
  },
  {
   "cell_type": "code",
   "execution_count": 11,
   "metadata": {},
   "outputs": [
    {
     "data": {
      "text/html": [
       "<div>\n",
       "<style scoped>\n",
       "    .dataframe tbody tr th:only-of-type {\n",
       "        vertical-align: middle;\n",
       "    }\n",
       "\n",
       "    .dataframe tbody tr th {\n",
       "        vertical-align: top;\n",
       "    }\n",
       "\n",
       "    .dataframe thead th {\n",
       "        text-align: right;\n",
       "    }\n",
       "</style>\n",
       "<table border=\"1\" class=\"dataframe\">\n",
       "  <thead>\n",
       "    <tr style=\"text-align: right;\">\n",
       "      <th></th>\n",
       "      <th>Id</th>\n",
       "      <th>Directory</th>\n",
       "      <th>File</th>\n",
       "      <th>Complete</th>\n",
       "      <th>Wrinkeled</th>\n",
       "      <th>Cut</th>\n",
       "      <th>Bounce</th>\n",
       "      <th>Hole</th>\n",
       "      <th>Internal Rotting</th>\n",
       "      <th>Sun burn</th>\n",
       "      <th>Broken stamp</th>\n",
       "      <th>Ears</th>\n",
       "      <th>Aphids</th>\n",
       "      <th>Trip</th>\n",
       "      <th>Pitting</th>\n",
       "    </tr>\n",
       "  </thead>\n",
       "  <tbody>\n",
       "    <tr>\n",
       "      <th>0</th>\n",
       "      <td>9</td>\n",
       "      <td>Ingesneden</td>\n",
       "      <td>20201019-171133.256.tiff</td>\n",
       "      <td>True</td>\n",
       "      <td>False</td>\n",
       "      <td>False</td>\n",
       "      <td>False</td>\n",
       "      <td>False</td>\n",
       "      <td>False</td>\n",
       "      <td>False</td>\n",
       "      <td>False</td>\n",
       "      <td>False</td>\n",
       "      <td>False</td>\n",
       "      <td>False</td>\n",
       "      <td>False</td>\n",
       "    </tr>\n",
       "    <tr>\n",
       "      <th>1</th>\n",
       "      <td>10</td>\n",
       "      <td>Ingesneden</td>\n",
       "      <td>20201019-171133.802.tiff</td>\n",
       "      <td>True</td>\n",
       "      <td>False</td>\n",
       "      <td>True</td>\n",
       "      <td>False</td>\n",
       "      <td>False</td>\n",
       "      <td>False</td>\n",
       "      <td>False</td>\n",
       "      <td>False</td>\n",
       "      <td>False</td>\n",
       "      <td>False</td>\n",
       "      <td>False</td>\n",
       "      <td>False</td>\n",
       "    </tr>\n",
       "    <tr>\n",
       "      <th>2</th>\n",
       "      <td>11</td>\n",
       "      <td>Ingesneden</td>\n",
       "      <td>20201019-171133.862.tiff</td>\n",
       "      <td>True</td>\n",
       "      <td>False</td>\n",
       "      <td>True</td>\n",
       "      <td>False</td>\n",
       "      <td>False</td>\n",
       "      <td>False</td>\n",
       "      <td>False</td>\n",
       "      <td>False</td>\n",
       "      <td>False</td>\n",
       "      <td>False</td>\n",
       "      <td>False</td>\n",
       "      <td>False</td>\n",
       "    </tr>\n",
       "    <tr>\n",
       "      <th>3</th>\n",
       "      <td>12</td>\n",
       "      <td>Ingesneden</td>\n",
       "      <td>20201019-171133.915.tiff</td>\n",
       "      <td>True</td>\n",
       "      <td>False</td>\n",
       "      <td>False</td>\n",
       "      <td>False</td>\n",
       "      <td>False</td>\n",
       "      <td>False</td>\n",
       "      <td>False</td>\n",
       "      <td>False</td>\n",
       "      <td>False</td>\n",
       "      <td>False</td>\n",
       "      <td>True</td>\n",
       "      <td>False</td>\n",
       "    </tr>\n",
       "    <tr>\n",
       "      <th>4</th>\n",
       "      <td>13</td>\n",
       "      <td>Ingesneden</td>\n",
       "      <td>20201019-171135.154.tiff</td>\n",
       "      <td>True</td>\n",
       "      <td>False</td>\n",
       "      <td>False</td>\n",
       "      <td>False</td>\n",
       "      <td>False</td>\n",
       "      <td>False</td>\n",
       "      <td>True</td>\n",
       "      <td>False</td>\n",
       "      <td>False</td>\n",
       "      <td>False</td>\n",
       "      <td>False</td>\n",
       "      <td>True</td>\n",
       "    </tr>\n",
       "  </tbody>\n",
       "</table>\n",
       "</div>"
      ],
      "text/plain": [
       "   Id   Directory                      File  Complete  Wrinkeled    Cut  \\\n",
       "0   9  Ingesneden  20201019-171133.256.tiff      True      False  False   \n",
       "1  10  Ingesneden  20201019-171133.802.tiff      True      False   True   \n",
       "2  11  Ingesneden  20201019-171133.862.tiff      True      False   True   \n",
       "3  12  Ingesneden  20201019-171133.915.tiff      True      False  False   \n",
       "4  13  Ingesneden  20201019-171135.154.tiff      True      False  False   \n",
       "\n",
       "   Bounce   Hole  Internal Rotting  Sun burn  Broken stamp   Ears  Aphids  \\\n",
       "0   False  False             False     False         False  False   False   \n",
       "1   False  False             False     False         False  False   False   \n",
       "2   False  False             False     False         False  False   False   \n",
       "3   False  False             False     False         False  False   False   \n",
       "4   False  False             False      True         False  False   False   \n",
       "\n",
       "    Trip  Pitting  \n",
       "0  False    False  \n",
       "1  False    False  \n",
       "2  False    False  \n",
       "3   True    False  \n",
       "4  False     True  "
      ]
     },
     "execution_count": 11,
     "metadata": {},
     "output_type": "execute_result"
    }
   ],
   "source": [
    "df.head()"
   ]
  },
  {
   "cell_type": "code",
   "execution_count": 12,
   "metadata": {},
   "outputs": [
    {
     "data": {
      "text/plain": [
       "(1656, 15)"
      ]
     },
     "execution_count": 12,
     "metadata": {},
     "output_type": "execute_result"
    }
   ],
   "source": [
    "df.shape"
   ]
  },
  {
   "cell_type": "code",
   "execution_count": null,
   "metadata": {},
   "outputs": [],
   "source": [
    "class PaprikaDataset(Dataset):\n",
    "    \"\"\"Paprika dataset.\"\"\"\n",
    "\n",
    "    def __init__(self, csv_file, root_dir, label, phase=\"training\", transform=None):\n",
    "        \"\"\"\n",
    "        Args:\n",
    "            csv_file (string): Path to the csv file with annotations.\n",
    "            root_dir (string): Directory with all the images.\n",
    "            transform (callable, optional): Optional transform to be applied\n",
    "                on a sample.\n",
    "        \"\"\"\n",
    "        self.paprika_csv = pd.read_csv(csv_file)\n",
    "        \n",
    "        if phase == \"training\":\n",
    "            self.paprika_csv = self.paprika_csv.iloc[0:220]\n",
    "        \n",
    "        if phase == \"validation\":\n",
    "            self.paprika_csv = self.paprika_csv.iloc[220:300]\n",
    "        \n",
    "        if phase == \"testing\":\n",
    "            self.paprika_csv = self.paprika_csv.iloc[300:]\n",
    "        \n",
    "        \n",
    "        self.root_dir = root_dir\n",
    "        self.transform = transform\n",
    "        \n",
    "        assert label in ['Complete', 'Wrinkeled', 'Cut', 'Bounce', 'Hole', \n",
    "                         'Internal Rotting', 'Sun burn', 'Broken stamp', 'Ears',\n",
    "                         'Aphids', 'Trip'], 'Label is not in columns of CSV file'\n",
    "        \n",
    "        self.label = label\n",
    "\n",
    "    def __len__(self):\n",
    "        return len(self.paprika_csv)\n",
    "\n",
    "    def __getitem__(self, idx):\n",
    "        if torch.is_tensor(idx):\n",
    "            idx = idx.tolist()\n",
    "        img_name = osp.join(self.root_dir,\n",
    "                                self.paprika_csv['Directory'][idx], \n",
    "                                self.paprika_csv['File'][idx])\n",
    "        image = cv2.imread(img_name, -1) # -1 is to read 16-bit\n",
    "        \n",
    "        #class_label = np.array(self.paprika_csv[self.label][idx], 'int64')\n",
    "        class_label = np.array(self.paprika_csv.iloc[idx, 4:], 'float32')\n",
    "        \n",
    "        sample = {'image': image, 'label': class_label}\n",
    "        \n",
    "        if self.transform:\n",
    "            sample = self.transform(sample)\n",
    "\n",
    "        return sample"
   ]
  },
  {
   "cell_type": "code",
   "execution_count": null,
   "metadata": {},
   "outputs": [],
   "source": [
    "class Normalize(object):\n",
    "    \"\"\"Normalize the input data between [0 1]\"\"\"\n",
    "\n",
    "    def __call__(self, sample):\n",
    "        image, label = sample['image'], sample['label']\n",
    "\n",
    "        # swap color axis because\n",
    "        # numpy image: H x W x C\n",
    "        # torch image: C X H X W\n",
    "        #image = image.transpose((2, 1, 0))\n",
    "        image = image[:,:, [2,1,0]]\n",
    "        imin, imax = np.min(image), np.max(image)\n",
    "        image -= imin\n",
    "        imf = np.array(image,'float32')\n",
    "        imf *= 1./(imax-imin)\n",
    "        return {'image': imf,\n",
    "                'label': label}"
   ]
  },
  {
   "cell_type": "code",
   "execution_count": null,
   "metadata": {},
   "outputs": [],
   "source": [
    "class ToTensor(object):\n",
    "    \"\"\"Convert ndarrays in sample to Tensors.\"\"\"\n",
    "\n",
    "    def __call__(self, sample):\n",
    "        image, label = sample['image'], sample['label']\n",
    "\n",
    "        # swap color axis because\n",
    "        # numpy image: H x W x C\n",
    "        # torch image: C X H X W\n",
    "        image = image.transpose((2, 1, 0))\n",
    "        \n",
    "        return {'image': torch.from_numpy(image),\n",
    "                'label': torch.from_numpy(label)}"
   ]
  },
  {
   "cell_type": "code",
   "execution_count": null,
   "metadata": {},
   "outputs": [],
   "source": [
    "paprika_dataset_train = PaprikaDataset(csv_file=labels_file,\n",
    "                                     root_dir='data/',\n",
    "                                     label='Trip',   \n",
    "                                     phase=\"training\",\n",
    "                                     transform=transforms.Compose([\n",
    "                                               Normalize(),\n",
    "                                               ToTensor(),\n",
    "                                               Rotate(0),\n",
    "                                               FilpHorizontal(),\n",
    "                                           ]))\n",
    "\n",
    "paprika_dataset_val = PaprikaDataset(csv_file=labels_file,\n",
    "                                     root_dir='data/',\n",
    "                                     label='Trip',    \n",
    "                                     phase=\"validation\",\n",
    "                                     transform=transforms.Compose([\n",
    "                                               Normalize(),\n",
    "                                               ToTensor()\n",
    "                                           ]))"
   ]
  },
  {
   "cell_type": "code",
   "execution_count": null,
   "metadata": {},
   "outputs": [],
   "source": [
    "s= paprika_dataset[0]"
   ]
  },
  {
   "cell_type": "code",
   "execution_count": null,
   "metadata": {},
   "outputs": [],
   "source": [
    "s['image']"
   ]
  },
  {
   "cell_type": "code",
   "execution_count": null,
   "metadata": {},
   "outputs": [],
   "source": [
    "plt.imshow(s['image'].permute(2,1,0))"
   ]
  },
  {
   "cell_type": "code",
   "execution_count": null,
   "metadata": {},
   "outputs": [],
   "source": [
    "def matplotlib_imshow(img):\n",
    "    plt.imshow(img.permute(2, 1, 0))"
   ]
  },
  {
   "cell_type": "code",
   "execution_count": null,
   "metadata": {},
   "outputs": [],
   "source": [
    "trainloader = DataLoader(paprika_dataset_train, batch_size=16,\n",
    "                                          shuffle=True, num_workers=4)\n",
    "\n",
    "valloader = DataLoader(paprika_dataset_val, batch_size=16,\n",
    "                                          shuffle=True, num_workers=4)\n",
    "\n",
    "#testloader = DataLoader(testset, batch_size=4,\n",
    "#                                         shuffle=False, num_workers=2)"
   ]
  },
  {
   "cell_type": "code",
   "execution_count": null,
   "metadata": {},
   "outputs": [],
   "source": [
    "# get some random training images\n",
    "dataiter = iter(trainloader)\n",
    "sample = dataiter.next()\n",
    "images = sample['image']\n",
    "# create grid of images\n",
    "img_grid = torchvision.utils.make_grid(images, nrow=4)\n",
    "\n",
    "# show images\n",
    "matplotlib_imshow(img_grid)\n",
    "\n",
    "# write to tensorboard\n",
    "writer.add_image('16_paprika_images', img_grid)"
   ]
  },
  {
   "cell_type": "code",
   "execution_count": null,
   "metadata": {},
   "outputs": [],
   "source": [
    "class PaprikaNet(nn.Module):\n",
    "    def __init__(self):\n",
    "        super(PaprikaNet, self).__init__()\n",
    "        \n",
    "        self.conv1 = nn.Conv2d(3, 6, 7) # input_channels, output_channels, kernel_size\n",
    "        self.pool = nn.MaxPool2d(5, 5)\n",
    "        self.conv2 = nn.Conv2d(6, 16, 5)\n",
    "        self.conv3 = nn.Conv2d(16, 32, 3)\n",
    "        self.adapmaxpool = nn.AdaptiveAvgPool2d((8,4))\n",
    "        self.fc1 = nn.Linear(32 * 8 * 4, 120)\n",
    "        self.fc2 = nn.Linear(120, 84)\n",
    "        self.fc3 = nn.Linear(84, 10)\n",
    "\n",
    "    def forward(self, x):\n",
    "        x = self.pool(F.relu(self.conv1(x)))\n",
    "        x = self.pool(F.relu(self.conv2(x)))\n",
    "        x = self.pool(F.relu(self.conv3(x)))\n",
    "        #print(x.shape)\n",
    "        x = self.adapmaxpool(x)\n",
    "        x = x.view(-1, 32 * 8 * 4)\n",
    "        #print(x.shape)\n",
    "        x = F.relu(self.fc1(x))\n",
    "        x = F.relu(self.fc2(x))\n",
    "        x = self.fc3(x)\n",
    "        #return x\n",
    "        return nn.Sigmoid(x)\n",
    "\n",
    "\n",
    "net = PaprikaNet().to(device)\n"
   ]
  },
  {
   "cell_type": "code",
   "execution_count": null,
   "metadata": {},
   "outputs": [],
   "source": [
    "s['image'].shape"
   ]
  },
  {
   "cell_type": "code",
   "execution_count": null,
   "metadata": {},
   "outputs": [],
   "source": [
    "s['image'][None, ...].shape"
   ]
  },
  {
   "cell_type": "code",
   "execution_count": null,
   "metadata": {},
   "outputs": [],
   "source": [
    "output = net(s['image'][None, ...].to(device)) # NCHW"
   ]
  },
  {
   "cell_type": "code",
   "execution_count": null,
   "metadata": {},
   "outputs": [],
   "source": [
    "output.shape"
   ]
  },
  {
   "cell_type": "code",
   "execution_count": null,
   "metadata": {},
   "outputs": [],
   "source": [
    "writer.add_graph(net, images.to(device))\n",
    "writer.close()"
   ]
  },
  {
   "cell_type": "code",
   "execution_count": null,
   "metadata": {},
   "outputs": [],
   "source": [
    "list(net.parameters())"
   ]
  },
  {
   "cell_type": "code",
   "execution_count": null,
   "metadata": {},
   "outputs": [],
   "source": [
    "#criterion = nn.CrossEntropyLoss()\n",
    "criterion = nn.BCELoss()\n",
    "\n",
    "optimizer = optim.Adam(net.parameters(), lr=.0001)"
   ]
  },
  {
   "cell_type": "code",
   "execution_count": null,
   "metadata": {},
   "outputs": [],
   "source": [
    "for epoch in range(100):  # loop over the dataset multiple times\n",
    "\n",
    "    running_loss = 0.0\n",
    "    for i, data in enumerate(trainloader, 0):\n",
    "        \n",
    "        \n",
    "        # get the inputs; data is a list of [inputs, labels]\n",
    "        inputs, labels = data['image'].to(device), data['label'].to(device)\n",
    "\n",
    "        # zero the parameter gradients\n",
    "        optimizer.zero_grad()\n",
    "\n",
    "        # forward + backward + optimize\n",
    "        outputs = net(inputs)\n",
    "        loss = criterion(outputs, labels)\n",
    "        loss.backward()\n",
    "        optimizer.step()\n",
    "\n",
    "        # print statistics\n",
    "        running_loss += loss.item()\n",
    "        \n",
    "    val_loss = validation_loss(net, valloader)\n",
    "        \n",
    "    if epoch % 2 == 0:\n",
    "        #print('Epoch: %d --- loss: %.6f' % (epoch + 1, running_loss / len(trainloader)))\n",
    "        writer.add_scalar('training loss',\n",
    "                            running_loss / len(trainloader),\n",
    "                            epoch)    \n",
    "\n",
    "print('Finished Training')"
   ]
  },
  {
   "cell_type": "code",
   "execution_count": null,
   "metadata": {},
   "outputs": [],
   "source": [
    "PATH = './paprika_net.pth'\n",
    "torch.save(net.state_dict(), PATH)"
   ]
  },
  {
   "cell_type": "code",
   "execution_count": null,
   "metadata": {},
   "outputs": [],
   "source": [
    "def validation_loss(net, valloader):\n",
    "    correct = 0\n",
    "    total = 0\n",
    "    with torch.no_grad():\n",
    "        for data in valloader:\n",
    "            images, labels = data['image'].to(device), data['label'].to(device)\n",
    "            outputs = net(images)\n",
    "            _, predicted = torch.max(outputs.data, 1)\n",
    "            total += labels.size(0)\n",
    "            correct += (predicted == labels).sum().item()\n",
    "            \n",
    "    return correct/total"
   ]
  },
  {
   "cell_type": "code",
   "execution_count": null,
   "metadata": {},
   "outputs": [],
   "source": [
    "correct = 0\n",
    "total = 0\n",
    "with torch.no_grad():\n",
    "    for data in trainloader:\n",
    "        images, labels = data['image'].to(device), data['label'].to(device)\n",
    "        outputs = net(images)\n",
    "        _, predicted = torch.max(outputs.data, 1)\n",
    "        total += labels.size(0)\n",
    "        correct += (predicted == labels).sum().item()\n",
    "\n",
    "print('Accuracy of the network on the %d test images: %d %%' % (len(paprika_dataset),\n",
    "    100 * correct / total))"
   ]
  },
  {
   "cell_type": "code",
   "execution_count": null,
   "metadata": {},
   "outputs": [],
   "source": [
    "[0.4, 0.65, 0.9]"
   ]
  },
  {
   "cell_type": "code",
   "execution_count": null,
   "metadata": {},
   "outputs": [],
   "source": [
    "df=pd.read_csv(labels_file)"
   ]
  },
  {
   "cell_type": "code",
   "execution_count": null,
   "metadata": {},
   "outputs": [],
   "source": [
    "sum(df['Trip'])/320"
   ]
  },
  {
   "cell_type": "code",
   "execution_count": null,
   "metadata": {},
   "outputs": [],
   "source": []
  }
 ],
 "metadata": {
  "kernelspec": {
   "display_name": "Python 3",
   "language": "python",
   "name": "python3"
  },
  "language_info": {
   "codemirror_mode": {
    "name": "ipython",
    "version": 3
   },
   "file_extension": ".py",
   "mimetype": "text/x-python",
   "name": "python",
   "nbconvert_exporter": "python",
   "pygments_lexer": "ipython3",
   "version": "3.7.9"
  }
 },
 "nbformat": 4,
 "nbformat_minor": 4
}
